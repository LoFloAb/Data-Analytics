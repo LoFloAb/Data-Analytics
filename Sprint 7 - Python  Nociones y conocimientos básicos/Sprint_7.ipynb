{
 "cells": [
  {
   "cell_type": "markdown",
   "metadata": {},
   "source": [
    "# **Sprint 7** - Estructuras de datos y de control\n",
    "\n",
    "Resolverás algunos problemas de la vida cotidiana aplicando las estructuras de datos y control en Python.\n",
    "\n",
    "Un cliente de la empresa en la que trabajas pide una lista de programas muy sencillos, pero que le facilitarían muchos procesos. Sin embargo, el departamento de TU está muy complicado con el tiempo, por lo que te piden que hagas la programación."
   ]
  },
  {
   "cell_type": "markdown",
   "metadata": {},
   "source": [
    "## **Nivel 1**"
   ]
  },
  {
   "cell_type": "markdown",
   "metadata": {},
   "source": [
    "### **Ejercicio 1:** Calculadora del índice de masa corporal\n",
    "\n",
    "1. Escribe una función que calcule el IMC ingresado por el usuario/a, es decir, quien lo ejecute deberá ingresar estos datos.\n",
    "Puedes obtener más información de su cálculo en: [Índice de masa corporal IMC que es y cómo se calcula.](https://muysalud.com/salud/indice-de-masa-corporal-imc-que-es-y-como-se-calcula/)\n",
    "\n",
    "2. La función debe clasificar el resultado en sus respectivas categorías."
   ]
  },
  {
   "cell_type": "code",
   "execution_count": null,
   "metadata": {},
   "outputs": [
    {
     "name": "stdout",
     "output_type": "stream",
     "text": [
      "Your BMI is 23.44.\n",
      "You have a normal weight.\n"
     ]
    }
   ],
   "source": [
    "def calculate_bmi(weight, height_cm):\n",
    "    return round(weight / ((height_cm / 100) ** 2), 2)\n",
    "\n",
    "def classify_bmi(bmi):\n",
    "    if bmi < 18.5:\n",
    "        return \"You are underweight.\"\n",
    "    elif 18.5 <= bmi <= 24.9:\n",
    "        return \"You have a normal weight.\"\n",
    "    elif 25.0 <= bmi <= 29.9:\n",
    "        return \"You are overweight.\"\n",
    "    elif 30.0 <= bmi <= 34.9:\n",
    "        return \"You have obesity class I.\"\n",
    "    elif 35.0 <= bmi <= 39.9:\n",
    "        return \"You have obesity class II.\"\n",
    "    else:  # bmi >= 40.0\n",
    "        return \"You have obesity class III.\"\n",
    "\n",
    "def main():\n",
    "    try:\n",
    "        weight = float(input(\"Input your weight in kilograms: \"))\n",
    "        height = float(input(\"Input your height in centimeters: \"))\n",
    "        bmi = calculate_bmi(weight, height)\n",
    "        print(f\"Your BMI is {bmi}.\\n\" +\n",
    "              classify_bmi(bmi))\n",
    "\n",
    "    except ValueError:\n",
    "        print(\"Oops, that was an invalid input.\\n\"+\n",
    "              \"Please input your weight and height as numbers (e.g., 70.5, 175).\")"
   ]
  },
  {
   "cell_type": "markdown",
   "metadata": {},
   "source": [
    "#### Explicación del código:\n",
    "\n",
    "1. El programa está organizado en funciones para mantener una estructura clara y modular:\n",
    "    * **calculate_bmi()** se encarga de calcular el índice de masa corporal (*BMI en ingles*).\n",
    "    * **classify_bmi()** determina la categoría del BMI según el valor calculado.\n",
    "    * **main()** gestiona la interacción con el usuario y coordina el proceso general.\n",
    "\n",
    "2. En **calculate_bmi(weight, height_cm)**, se utiliza la fórmula del BMI:  \n",
    "    **BMI = round(weight / ((height_cm / 100) ** 2), 2)**\n",
    "    * La altura se divide entre 100 para convertirla de centímetros a metros, y luego se eleva al cuadrado.\n",
    "    * El resultado se redondea a 2 decimales para facilitar su lectura.\n",
    "\n",
    "3. En la función **classify_bmi(bmi)**, se definen los rangos para clasificar el valor del BMI:\n",
    "\n",
    "4. En la función **main()**:\n",
    "    * Se solicita al usuario que introduzca su peso (en kilogramos) y su altura (en centímetros) mediante la función input().\n",
    "    * Estos valores se convierten a tipo float y se pasan a calculate_bmi() para obtener el resultado.\n",
    "    * Luego, se llama a classify_bmi() para mostrar la clasificación correspondiente al BMI calculado.\n",
    "    * Si el usuario ingresa datos inválidos (como texto en lugar de números), se activa el bloque except que captura el error ValueError.\n",
    "    * En ese caso, se muestra un mensaje de advertencia indicando que las entradas deben ser numéricas (por ejemplo: 70.5, 175).\n",
    "___"
   ]
  },
  {
   "cell_type": "markdown",
   "metadata": {},
   "source": [
    "### **Ejercicio 2:** Conversor de temperaturas.\n",
    "\n",
    "Existen diversas unidades de temperatura utilizadas en distintos contextos y regiones. Las más comunes son Celsius (°C), Fahrenheit (°F) y Kelvin (K). También existen otras unidades como Rankine (°Ra) y Réaumur (°Re). Selecciona al menos 2 conversores, de modo que al introducir una temperatura devuelva, como mínimo, dos conversiones."
   ]
  },
  {
   "cell_type": "code",
   "execution_count": null,
   "metadata": {},
   "outputs": [
    {
     "name": "stdout",
     "output_type": "stream",
     "text": [
      "You input was 25° celsius.\n",
      "The temperature in Fahrenheit is 77.0°F, and in Kelvin is 298.15K.\n"
     ]
    }
   ],
   "source": [
    "def temperature_converter(Celsius):\n",
    "    \n",
    "    Fahrenheit = (Celsius * (9/5)) + 32\n",
    "    Kelvin = (Celsius) + 273.15\n",
    "\n",
    "    print(f\"You input was {Celsius}° celsius.\\n\" +\n",
    "          f\"The temperature in Fahrenheit is {Fahrenheit}°F, and in Kelvin is {Kelvin}K.\")\n",
    "\n",
    "try:\n",
    "    Celsius = int(input(\"Input the temperature, in Celsius\"))\n",
    "    \n",
    "    temperature_converter(Celsius)\n",
    "\n",
    "except ValueError:\n",
    "    print(\"Oops, that was an invalid input.\\n\" +\n",
    "          \"Please input the temperature as an integer numbers.\")"
   ]
  },
  {
   "cell_type": "markdown",
   "metadata": {},
   "source": [
    "#### Explicación del código:\n",
    "\n",
    "1. Primero, definimos la función y sobre qué iterará con def temperature_converter(Celsius):.\n",
    "    * Donde temperature_converter() será el nombre de la función y \"Celsius\" será el parámetro sobre el cual la función operará.\n",
    "\n",
    "2. Luego, definimos las fórmulas que utilizaremos para convertir los grados Celsius a Fahrenheit y Kelvin, respectivamente.\n",
    "    * Para la conversión a Fahrenheit, multiplicaremos los grados Celsius por 9/5 y le sumaremos 32 al resultado.\n",
    "    * Por otro lado, para la conversión a Kelvin, le sumaremos 273.15 a los grados Celsius.\n",
    "\n",
    "3. Después, mostraremos cuál fue la entrada que realizó el usuario y luego el resultado de la conversión en las unidades mencionadas anteriormente.\n",
    "    * Para ello, haremos un print() de una cadena formateada que nos presentará el valor de Celsius que el usuario introdujo, junto con el resultado de las conversiones a Fahrenheit y Kelvin.\n",
    "\n",
    "4. Ahora, usaremos un bloque try-except para evitar errores y redirigir al usuario en caso de que ocurran.\n",
    "    1. Primero, asignaremos el valor de Celsius como el input que el usuario ingrese.\n",
    "    2. Si el valor introducido es inválido, presentaremos un mensaje explicando que el input debe ser un número entero.\n",
    "    3. Finalmente, llamaremos a la función dentro del bloque try-except para asegurarnos de que cumpla su cometido.\n",
    "___"
   ]
  },
  {
   "cell_type": "markdown",
   "metadata": {},
   "source": [
    "### **Ejercicio 3:** Contador de palabras en un texto.\n",
    "\n",
    "Escribe una función que dado un texto, muestre las veces que aparece cada palabra."
   ]
  },
  {
   "cell_type": "code",
   "execution_count": null,
   "metadata": {},
   "outputs": [
    {
     "name": "stdout",
     "output_type": "stream",
     "text": [
      "Your text was:\n",
      "Dichoso el árbol, que es apenas sensitivo, y más la piedra dura porque esa ya no siente, pues no hay dolor más grande que el dolor de ser vivo, ni mayor pesadumbre que la vida consciente.\n",
      "\n",
      "The count of words is:\n",
      "36\n",
      "\n",
      "The frequency of words is:\n",
      "{'dichoso': 1, 'el': 2, 'árbol': 1, 'que': 3, 'es': 1, 'apenas': 1, 'sensitivo': 1, 'y': 1, 'más': 2, 'la': 2, 'piedra': 1, 'dura': 1, 'porque': 1, 'esa': 1, 'ya': 1, 'no': 2, 'siente': 1, 'pues': 1, 'hay': 1, 'dolor': 2, 'grande': 1, 'de': 1, 'ser': 1, 'vivo': 1, 'ni': 1, 'mayor': 1, 'pesadumbre': 1, 'vida': 1, 'consciente': 1}\n"
     ]
    }
   ],
   "source": [
    "# Fuente del texto utilizado para probar el contador de palabras:\n",
    "# https://www.poemas-del-alma.com/lo-fatal.htm\n",
    "\n",
    "text = input(\"Input the text here: \")\n",
    "print(f\"Your text was:\\n{text}\\n\")\n",
    "\n",
    "def counter_of_words_frequency(text):\n",
    "    symbols = [\",\", \".\", \";\", \":\", \"'\", '\"', \"¿\", \"?\", \"¡\", \"!\", \"(\", \")\"]\n",
    "    text = text.lower()\n",
    "    \n",
    "    for symbol in symbols:\n",
    "        text = text.replace(symbol, \"\")\n",
    "\n",
    "    words = text.split()\n",
    "    word_counter = len(words)\n",
    "    word_frequency = {}\n",
    "\n",
    "    for word in words:\n",
    "        if word in word_frequency:\n",
    "            word_frequency[word] += 1\n",
    "        else:\n",
    "            word_frequency[word] = 1\n",
    "\n",
    "    print(f\"The count of words is:\\n{word_counter}\\n\" +\n",
    "          f\"The frequency of words is:\\n{word_frequency}\")\n",
    "    \n",
    "counter_of_words_frequency(text)"
   ]
  },
  {
   "cell_type": "markdown",
   "metadata": {},
   "source": [
    "#### Explicación del código:\n",
    "\n",
    "1. El contador recibe un texto como entrada (input) y lo muestra para que el usuario pueda ver qué fue lo que introdujo.\n",
    "\n",
    "2. Definimos la función, que comienza convirtiendo todo el texto a minúsculas y luego elimina los símbolos del texto para asegurar una mejor concordancia en el conteo.\n",
    "\n",
    "3. Después, dividimos el texto en palabras y contamos cuántas contiene.\n",
    "\n",
    "4. Abrimos un diccionario y agregamos los pares de palabras junto con su respectiva frecuencia.\n",
    "\n",
    "5. Finalmente, mostramos el conteo total de palabras en el texto y los pares de palabras con su frecuencia.\n",
    "___"
   ]
  },
  {
   "cell_type": "markdown",
   "metadata": {},
   "source": [
    "### **Ejercicio 4:** Diccionario inverso.\n",
    "\n",
    "Resulta que el cliente tiene una encuesta muy antigua que se almacena en un diccionario y los resultados los necesita a la inversa, es decir, intercambiados las claves y los valores. Los valores y claves en el diccionario original son únicos; si éste no es el caso, la función debería imprimir un mensaje de advertencia.\n",
    "\n",
    "dictionary_1 = {1: 'a', 2: 'b', 3: 'c', 4: 'd', 5: 'e', 6: 'f'}   \n",
    "reverse_dictionary = {'a': 1, 'b': 2, 'c': 3, 'd': 4, 'e': 5, 'f': 6}\n",
    "\n",
    "dictionary_2 = {'a': 'apple', 'b': 'banana', 'c': 'banana', 'd': 'melon', 'e': 'mango', 'f' : 'apple'}   \n",
    "Error: multiple keys for one value"
   ]
  },
  {
   "cell_type": "code",
   "execution_count": 4,
   "metadata": {},
   "outputs": [
    {
     "name": "stdout",
     "output_type": "stream",
     "text": [
      "Your dictionary was:\n",
      " {1: 'a', 2: 'b', 3: 'c', 4: 'd', 5: 'e', 6: 'f'}\n",
      "The reverse dictionary is:\n",
      " {'a': 1, 'b': 2, 'c': 3, 'd': 4, 'e': 5, 'f': 6}\n",
      "\n",
      "Error: multiple keys for one value\n"
     ]
    }
   ],
   "source": [
    "dictionary_1 = {1: 'a', 2: 'b', 3: 'c', 4: 'd', 5: 'e', 6: 'f'}    \n",
    "dictionary_2 = {'a': 'apple', 'b': 'banana', 'c': 'banana', 'd': 'melon', 'e': 'mango', 'f' : 'apple'}\n",
    "\n",
    "def reverse_dictionary(dictionary):\n",
    "    reverse_dict = {}\n",
    "    value_count = {}\n",
    "\n",
    "    for _, value in dictionary.items():  # Recorremos solo los valores.\n",
    "        value_count[value] = value_count.get(value, 0) + 1\n",
    "\n",
    "    for key, value in dictionary.items():\n",
    "        if value_count[value] > 1:\n",
    "            print(\"Error: multiple keys for one value\")\n",
    "            return\n",
    "        reverse_dict[value] = key\n",
    "    return print(f\"Your dictionary was:\\n {dictionary}\\n\" +\n",
    "                 f\"The reverse dictionary is:\\n {reverse_dict}\\n\")\n",
    "\n",
    "reverse_dictionary(dictionary_1)\n",
    "reverse_dictionary(dictionary_2)"
   ]
  },
  {
   "cell_type": "markdown",
   "metadata": {},
   "source": [
    "#### Explicación del código:\n",
    "\n",
    "La función recibe un diccionario y lo invierte. En caso de que haya valores repetidos, el proceso se detendrá y se mostrará un mensaje de error. Para ello:\n",
    "\n",
    "1. Crea dos diccionarios vacíos: en el primero almacenará el diccionario invertido, y en el segundo guardará los valores junto con su conteo.\n",
    "\n",
    "2. Recorre el diccionario proporcionado mediante un bucle, almacenando los valores y su conteo en el diccionario value_count previamente creado.\n",
    "\n",
    "3. Verifica el conteo de cada valor del diccionario original mediante otro bucle. Si algún valor tiene un conteo mayor que 1, se devolverá un mensaje de error.\n",
    "\n",
    "4. Si no hay valores repetidos, invertirá el diccionario, intercambiando las claves y los valores.\n",
    "___\n",
    "___"
   ]
  },
  {
   "cell_type": "markdown",
   "metadata": {},
   "source": [
    "## **Nivel 2**"
   ]
  },
  {
   "cell_type": "markdown",
   "metadata": {},
   "source": [
    "### **Ejercicio 1:** Diccionario inverso con duplicados\n",
    "\n",
    "Continuando con el ejercicio 4 del nivel 1: al cliente se olvidó comentar un detalle y resulta que los valores en el diccionario original pueden duplicarse y más, por lo que las claves intercambiadas pueden tener duplicados. En este caso, en el ejercicio anterior imprimías un mensaje de advertencia, ahora, los valores del diccionario resultante tendrán que almacenarse como una lista. Ten en cuenta que si es un valor único no debe ser una lista.\n",
    "\n",
    "dictionary_plus = {'x': 'apple', 'y': 'banana', 'z': 'banana'}    \n",
    "reverse_dictionary_plus = {'apple': 'x', 'banana': ['y', 'z']}"
   ]
  },
  {
   "cell_type": "code",
   "execution_count": null,
   "metadata": {},
   "outputs": [
    {
     "name": "stdout",
     "output_type": "stream",
     "text": [
      "Your dictionay was:\n",
      " {'a': 'apple', 'b': 'banana', 'c': 'banana', 'd': 'melon', 'e': 'mango', 'f': 'apple'}\n",
      "The reverse dictionary is:\n",
      " {'apple': ['a', 'f'], 'banana': ['b', 'c'], 'melon': 'd', 'mango': 'e'}\n"
     ]
    }
   ],
   "source": [
    "dictionary_plus = {'a': 'apple', 'b': 'banana', 'c': 'banana', 'd': 'melon', 'e': 'mango', 'f' : 'apple'}\n",
    "\n",
    "def reverse_dictionary_plus(dictionary_plus):\n",
    "    reverse_dict_plus = {}\n",
    "\n",
    "    for key, value in dictionary_plus.items(): # Recorremos los pares clave-valor.\n",
    "        if value in reverse_dict_plus:\n",
    "            reverse_dict_plus[value] = reverse_dict_plus.get(value, []) + [key]\n",
    "        else:\n",
    "            reverse_dict_plus[value] = key\n",
    "    return print(f\"Your dictionay was:\\n {dictionary_plus}\\n\" +\n",
    "                 f\"The reverse dictionary is:\\n {reverse_dict_plus}\")\n",
    "\n",
    "reverse_dictionary_plus(dictionary_plus)"
   ]
  },
  {
   "cell_type": "markdown",
   "metadata": {},
   "source": [
    "#### Explicación del código:\n",
    "\n",
    "1. Definimos la función y el parámetro sobre el que esta iterará; en este caso, será sobre dictionary_plus.\n",
    "\n",
    "2. Inicializamos un diccionario vacío donde almacenaremos el resultado de invertir el diccionario original.\n",
    "\n",
    "3. Mediante un bucle, recorremos el diccionario original e invertimos las claves y valores.\n",
    "    * Si un valor se repite, se convertirá en una lista de claves, agregando las nuevas claves encontradas.\n",
    "\n",
    "4. Finalmente, la función mostrará tanto el diccionario original como el diccionario invertido, con los valores repetidos representados como listas de claves.\n",
    "___"
   ]
  },
  {
   "cell_type": "markdown",
   "metadata": {},
   "source": [
    "### **Ejercicio 2:** Conversión de tipos de datos\n",
    "\n",
    "El cliente recibe una lista de datos y necesita generar dos listas, la primera donde estarán todos los elementos que pudieron convertirse en flotantes y la otra donde están los elementos que no pudieron convertirse.    \n",
    "Ejemplo de la lista que recibe el cliente:    \n",
    "conversion [ '1.3', 'one', '1e10', 'seven', '3-1/2', ('2',1,1.4, 'not-a-number'), [1,2,'3','3.4']]\n",
    "\n",
    "([1.3, 10000000000.0, 2.0, 1.0, 1.4, 1.0, 2.0, 3.0, 3.4],    \n",
    "['one', 'seven', '3-1/2', 'not-a-number'])"
   ]
  },
  {
   "cell_type": "code",
   "execution_count": null,
   "metadata": {},
   "outputs": [
    {
     "name": "stdout",
     "output_type": "stream",
     "text": [
      "This is the convertable list:\n",
      "[1.3, 10000000000.0, 2.0, 1.0, 1.4, 1.0, 2.0, 3.0, 3.4]\n",
      "\n",
      "This is the non convertable list:\n",
      "['one', 'seven', '3-1/2', 'not-a-number']\n"
     ]
    }
   ],
   "source": [
    "data_list = ['1.3', 'one', '1e10', 'seven', '3-1/2', ('2', 1, 1.4, 'not-a-number'), [1, 2, '3', '3.4']]\n",
    "\n",
    "def convertion(data_list):\n",
    "    convertable_list = []\n",
    "    non_convertable_list = []\n",
    "\n",
    "    def process_elements(element):\n",
    "        if isinstance(element, (list, tuple)):\n",
    "            for sub_element in element:\n",
    "                process_elements(sub_element)\n",
    "        else:\n",
    "            try:\n",
    "                convertable_list.append(float(element))\n",
    "            except ValueError:\n",
    "                non_convertable_list.append(element)\n",
    "    \n",
    "    for item in data_list:\n",
    "        process_elements(item)\n",
    "    \n",
    "    return print(f\"This is the convertable list:\\n{convertable_list}\\n\" +\n",
    "                 f\"\\nThis is the non convertable list:\\n{non_convertable_list}\")\n",
    "\n",
    "convertion(data_list)"
   ]
  },
  {
   "cell_type": "markdown",
   "metadata": {},
   "source": [
    "#### Explicación del código:\n",
    "\n",
    "1. Primero definimos la función principal que tomará una lista de datos como entrada.\n",
    "\n",
    "2. Luego, inicializamos dos listas vacías: una para los elementos convertibles (convertable_list) y otra para los no convertibles (non_convertable_list).\n",
    "\n",
    "3. Después, definimos una función anidada recursiva que procesará los elementos de la lista de entrada:\n",
    "    1. Si el elemento es una lista o tupla, la función se llama a sí misma para procesar los subelementos.\n",
    "    2. Si el elemento no es ni lista ni tupla, intenta convertirlo a float.\n",
    "    3. Si la conversión es exitosa, el elemento se agrega a la lista de convertibles.\n",
    "    4. Si la conversión falla, el elemento se agrega a la lista de no convertibles.\n",
    "\n",
    "4. Tras esto, iteramos sobre cada elemento de la lista de entrada y lo procesamos mediante la función recursiva.\n",
    "\n",
    "5. Finalmente, imprimimos las dos listas resultantes: una con los elementos convertibles y otra con los no convertibles.\n",
    "___\n",
    "___"
   ]
  },
  {
   "cell_type": "markdown",
   "metadata": {},
   "source": [
    "## **Nivel 3**"
   ]
  },
  {
   "cell_type": "markdown",
   "metadata": {},
   "source": [
    "### **Ejercicio 1:** Contador y ordenador de palabras de un texto.\n",
    "\n",
    "El cliente quedó contento con el contador de palabras, pero ahora quiere leer archivos TXT y que calcule la frecuencia de cada palabra ordenadas dentro de las entradas habituales del diccionario según la letra con la que comienzan, es decir, las claves deben ir de la A a la Z y dentro de la A debemos ir de la A a la Z.    \n",
    "Por ejemplo, para el archivo \"tu_me_quieres_blanca.txt\" la salida esperada sería:    \n",
    "{'a': {'a': 3, 'agua': 1, 'al': 2, 'alba': 4, 'alcobas': 1, 'alimenta': 1, 'alma': 1, 'amarga': 1, 'azucena': 1},    \n",
    "'b': {'baco': 1, 'banquete': 1, 'bebe': 1, 'blanca': 3, 'boca': 1, 'bosques': 1, 'buen': 1},    \n",
    "'c': {'cabañas': 1, 'carnes': 2, 'casta': 3, 'cerrada': 1, 'con': 4, 'conservas': 1, 'copas': 1, 'corola': 1, 'corriste': 1},    \n",
    "'t': {'tornadas': 1, 'tú': 8},    \n",
    "'u': {'un': 1, 'una': 1},    \n",
    "'v': {'vestido': 1, 'vete': 1, 'vive': 1},    \n",
    "'y': {'y': 5}}"
   ]
  },
  {
   "cell_type": "code",
   "execution_count": null,
   "metadata": {},
   "outputs": [
    {
     "name": "stdout",
     "output_type": "stream",
     "text": [
      "Your text was:\n",
      "Tú me quieres alba,\n",
      "me quieres de espumas,\n",
      "me quieres de nácar.\n",
      "Que sea azucena\n",
      "Sobre todas, casta.\n",
      "De perfume tenue.\n",
      "Corola cerrada .\n",
      "\n",
      "Ni un rayo de luna\n",
      "filtrado me haya.\n",
      "Ni una margarita\n",
      "se diga mi hermana.\n",
      "Tú me quieres nívea,\n",
      "tú me quieres blanca,\n",
      "tú me quieres alba.\n",
      "\n",
      "Tú que hubiste todas\n",
      "las copas a mano,\n",
      "de frutos y mieles\n",
      "los labios morados.\n",
      "Tú que en el banquete\n",
      "cubierto de pámpanos\n",
      "dejaste las carnes\n",
      "festejando a Baco.\n",
      "Tú que en los jardines\n",
      "negros del Engaño\n",
      "vestido de rojo\n",
      "corriste al Estrago.\n",
      "\n",
      "Tú que el esqueleto\n",
      "conservas intacto\n",
      "no sé todavía\n",
      "por cuáles milagros,\n",
      "me pretendes blanca\n",
      "(Dios te lo perdone),\n",
      "me pretendes casta\n",
      "(Dios te lo perdone),\n",
      "¡me pretendes alba!\n",
      "\n",
      "Huye hacia los bosques,\n",
      "vete a la montaña;\n",
      "límpiate la boca;\n",
      "vive en las cabañas;\n",
      "toca con las manos\n",
      "la tierra mojada;\n",
      "alimenta el cuerpo\n",
      "con raíz amarga;\n",
      "bebe de las rocas;\n",
      "duerme sobre escarcha;\n",
      "renueva tejidos\n",
      "con salitre y agua:\n",
      "\n",
      "Habla con los pájaros\n",
      "y lévate al alba.\n",
      "Y cuando las carnes\n",
      "te sean tornadas,\n",
      "y cuando hayas puesto\n",
      "en ellas el alma\n",
      "que por las alcobas\n",
      "se quedó enredada,\n",
      "entonces, buen hombre,\n",
      "preténdeme blanca,\n",
      "preténdeme nívea,\n",
      "preténdeme casta.\n",
      "\n",
      "The count of words is:\n",
      "202\n",
      "\n",
      "The frequency of words sorted by their first letter is:\n",
      "{'a': {'a': 3, 'agua': 1, 'al': 2, 'alba': 4, 'alcobas': 1, 'alimenta': 1, 'alma': 1, 'amarga': 1, 'azucena': 1}, 'b': {'baco': 1, 'banquete': 1, 'bebe': 1, 'blanca': 3, 'boca': 1, 'bosques': 1, 'buen': 1}, 'c': {'cabañas': 1, 'carnes': 2, 'casta': 3, 'cerrada': 1, 'con': 4, 'conservas': 1, 'copas': 1, 'corola': 1, 'corriste': 1, 'cuando': 2, 'cubierto': 1, 'cuerpo': 1, 'cuáles': 1}, 'd': {'de': 8, 'dejaste': 1, 'del': 1, 'diga': 1, 'dios': 2, 'duerme': 1}, 'e': {'el': 4, 'ellas': 1, 'en': 4, 'engaño': 1, 'enredada': 1, 'entonces': 1, 'escarcha': 1, 'espumas': 1, 'esqueleto': 1, 'estrago': 1}, 'f': {'festejando': 1, 'filtrado': 1, 'frutos': 1}, 'h': {'habla': 1, 'hacia': 1, 'haya': 1, 'hayas': 1, 'hermana': 1, 'hombre': 1, 'hubiste': 1, 'huye': 1}, 'i': {'intacto': 1}, 'j': {'jardines': 1}, 'l': {'la': 3, 'labios': 1, 'las': 7, 'lo': 2, 'los': 4, 'luna': 1, 'lévate': 1, 'límpiate': 1}, 'm': {'mano': 1, 'manos': 1, 'margarita': 1, 'me': 10, 'mi': 1, 'mieles': 1, 'milagros': 1, 'mojada': 1, 'montaña': 1, 'morados': 1}, 'n': {'negros': 1, 'ni': 2, 'no': 1, 'nácar': 1, 'nívea': 2}, 'p': {'perdone': 2, 'perfume': 1, 'por': 2, 'pretendes': 3, 'preténdeme': 3, 'puesto': 1, 'pájaros': 1, 'pámpanos': 1}, 'q': {'que': 6, 'quedó': 1, 'quieres': 6}, 'r': {'rayo': 1, 'raíz': 1, 'renueva': 1, 'rocas': 1, 'rojo': 1}, 's': {'salitre': 1, 'se': 2, 'sea': 1, 'sean': 1, 'sobre': 2, 'sé': 1}, 't': {'te': 3, 'tejidos': 1, 'tenue': 1, 'tierra': 1, 'toca': 1, 'todas': 2, 'todavía': 1, 'tornadas': 1, 'tú': 8}, 'u': {'un': 1, 'una': 1}, 'v': {'vestido': 1, 'vete': 1, 'vive': 1}, 'y': {'y': 5}}\n"
     ]
    }
   ],
   "source": [
    "file_path = input(\"Input the file path here: (Without quotation marks)\")\n",
    "\n",
    "with open(file_path, 'r', encoding='utf-8') as file:\n",
    "    text = file.read()\n",
    "    print(f\"Your text was:\\n{text}\\n\")\n",
    "\n",
    "def counter_and_sorterer_of_words_frequency(text):\n",
    "    symbols = [\",\", \".\", \";\", \":\", \"'\", '\"', \"¿\", \"?\", \"¡\", \"!\", \"(\", \")\"]\n",
    "    text = text.lower()\n",
    "\n",
    "    for symbol in symbols:\n",
    "        text = text.replace(symbol, \"\")\n",
    "\n",
    "    words = text.split()\n",
    "    word_counter = len(words)\n",
    "    word_frequency = {}\n",
    "\n",
    "    for word in words:\n",
    "        if word in word_frequency:\n",
    "            word_frequency[word] += 1\n",
    "        else:\n",
    "            word_frequency[word] = 1\n",
    "\n",
    "    sorted_word_frequency = {}\n",
    "\n",
    "    for word, count in sorted(word_frequency.items()):\n",
    "        first_letter = word[0]\n",
    "        if first_letter not in sorted_word_frequency:\n",
    "            sorted_word_frequency[first_letter] = {}\n",
    "        sorted_word_frequency[first_letter][word] = count\n",
    "\n",
    "    print(f\"The count of words is:\\n{word_counter}\\n\" +\n",
    "          f\"The frequency of words sorted by their first letter is:\\n{sorted_word_frequency}\")\n",
    "\n",
    "counter_and_sorterer_of_words_frequency(text)"
   ]
  },
  {
   "cell_type": "markdown",
   "metadata": {},
   "source": [
    "#### Explicación del código:\n",
    "\n",
    "1. En esta evolución del contador, recibiremos la ruta de un archivo .TXT como entrada (input), la almacenaremos en la variable \"file_path\" y luego procederemos a abrir el archivo para mostrar su contenido, permitiendo al usuario ver lo que ha introducido.\n",
    "\n",
    "2. Definimos la función principal e inicializamos la variable \"symbols\", que contiene una lista de los posibles símbolos que podríamos encontrar en el texto.\n",
    "\n",
    "3. Convertimos todo el texto a minúsculas y, mediante un bucle, eliminamos los símbolos. De esta manera, normalizamos el texto y garantizamos la concordancia en el conteo de palabras.\n",
    "\n",
    "4. Luego, dividimos el texto en palabras y contamos cuántas palabras contiene.\n",
    "\n",
    "5. A continuación, creamos un diccionario y, mediante un bucle, agregamos los pares de palabras junto con su respectiva frecuencia.\n",
    "\n",
    "6. Después, creamos otro diccionario en el que almacenaremos las palabras ordenadas alfabéticamente por su inicial, utilizando un bucle para realizar la organización.\n",
    "\n",
    "7. Finalmente, mostramos el conteo total de palabras en el texto y los pares de palabras con su frecuencia.\n",
    "___\n",
    "___"
   ]
  }
 ],
 "metadata": {
  "kernelspec": {
   "display_name": "Python 3",
   "language": "python",
   "name": "python3"
  },
  "language_info": {
   "codemirror_mode": {
    "name": "ipython",
    "version": 3
   },
   "file_extension": ".py",
   "mimetype": "text/x-python",
   "name": "python",
   "nbconvert_exporter": "python",
   "pygments_lexer": "ipython3",
   "version": "3.12.5"
  }
 },
 "nbformat": 4,
 "nbformat_minor": 2
}
