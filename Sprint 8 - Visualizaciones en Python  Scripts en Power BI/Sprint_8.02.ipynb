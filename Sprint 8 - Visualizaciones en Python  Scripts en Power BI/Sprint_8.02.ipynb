{
 "cells": [
  {
   "cell_type": "markdown",
   "metadata": {},
   "source": [
    "# **Sprint 8.02** - Power BI con Python\n",
    "\n",
    "Esta labor consiste en la elaboración de un informe de Power BI, aprovechando las capacidades analíticas de Python. Se utilizarán los scripts de Python creados previamente en la Tarea 1 para generar visualizaciones personalizadas con las bibliotecas Seaborn y Matplotlib. Estas visualizaciones estarán integradas en el informe de Power BI para ofrecer una comprensión más profunda de la capacidad del lenguaje de programación en la herramienta Power BI."
   ]
  },
  {
   "cell_type": "markdown",
   "metadata": {},
   "source": [
    "## **Nivel 1**\n",
    "\n",
    "#### Los 7 ejercicios del nivel 1 de la tarea 01."
   ]
  },
  {
   "cell_type": "markdown",
   "metadata": {},
   "source": [
    "### **Obtener datos** → **Script de Python**\n",
    "\n",
    "Hay líneas comentadas dentro del código porque las usaré luego en el script de sus respectivas visualizaciones."
   ]
  },
  {
   "cell_type": "code",
   "execution_count": null,
   "metadata": {},
   "outputs": [],
   "source": [
    "import mysql.connector\n",
    "import pandas as pd\n",
    "\n",
    "db_connection = mysql.connector.connect(\n",
    "    host='localhost', \n",
    "    user='root', \n",
    "    password='root', \n",
    "    database='db_transactions')\n",
    "\n",
    "cursor = db_connection.cursor()\n",
    "cursor.execute(\"SHOW TABLES\")\n",
    "MySQL_tables = [table[0] for table in cursor.fetchall()]\n",
    "\n",
    "DataFrames = {}\n",
    "cursor = db_connection.cursor(dictionary=True)\n",
    "for table in MySQL_tables:\n",
    "    cursor.execute(f\"SELECT * FROM {table}\")\n",
    "    DataFrames[f\"df_{table}\"] = pd.DataFrame(cursor.fetchall())\n",
    "\n",
    "print(DataFrames.keys())\n",
    "locals().update(DataFrames)\n",
    "\n",
    "cursor.close()\n",
    "db_connection.close()\n",
    "\n",
    "df_credit_card['expiring_date'] = pd.to_datetime(df_credit_card['expiring_date'])\n",
    "df_product = df_product.astype({'price': float, 'weight': float})\n",
    "df_transaction = df_transaction.astype({'amount': float, 'declined': bool})\n",
    "df_user['birth_date'] = pd.to_datetime(df_user['birth_date'])\n",
    "\n",
    "# Ejercicio 2:\n",
    "df_transaction['products_per_transaction'] = df_transaction['products_ids'].apply(lambda x: len(str(x).split(',')))\n",
    "\n",
    "# Ejercicio 3:\n",
    "df_company['companies_per_country'] = df_company.groupby('country')['id'].transform('count')\n",
    "# df_count_of_companies = df_company.sort_values(by='companies_per_country', ascending=False).reset_index(drop=True)\n",
    "\n",
    "# Ejercicio 4:\n",
    "df_company_transactions = pd.merge(df_company, df_transaction, left_on='id', right_on='company_id', how='outer')\n",
    "# df_sum_of_amount = df_company_transactions.groupby('country')['amount'].sum().reset_index().sort_values(by='amount', ascending=True)\n",
    "\n",
    "# Ejercicio 5:\n",
    "# df_company_transactions = pd.merge(df_company, df_transaction, left_on='id', right_on='company_id', how='outer')\n",
    "df_company_transactions['transactions_per_country'] = df_company_transactions.groupby('country')['id_y'].transform('count')\n",
    "# df_count_of_transactions = df_company_transactions.sort_values(by='transactions_per_country', ascending=False).reset_index(drop=True)\n",
    "\n",
    "# Ejercicio 6:\n",
    "# df_company_transactions = pd.merge(df_company, df_transaction, left_on='id', right_on='company_id', how='outer')\n",
    "df_country_summary = df_company_transactions.groupby('country').agg(average=('amount', 'mean'),total_amount=('amount', 'sum')).sort_values(by='average', ascending=False).reset_index()\n",
    "\n",
    "# Ejercicio 7:\n",
    "df_product_transaction_products = pd.merge(df_product, df_transaction_products, left_on='id', right_on='product_id', how='outer')\n",
    "df_product_count = df_product_transaction_products.groupby(['id', 'price']).size().reset_index(name='times_sold')\n"
   ]
  }
 ],
 "metadata": {
  "kernelspec": {
   "display_name": "Python 3",
   "language": "python",
   "name": "python3"
  },
  "language_info": {
   "name": "python",
   "version": "3.12.5"
  }
 },
 "nbformat": 4,
 "nbformat_minor": 2
}
